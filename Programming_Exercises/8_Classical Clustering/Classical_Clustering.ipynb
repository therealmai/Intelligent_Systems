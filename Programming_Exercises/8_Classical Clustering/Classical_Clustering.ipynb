{
 "cells": [
  {
   "cell_type": "code",
   "execution_count": 1,
   "metadata": {},
   "outputs": [],
   "source": [
    "# Libraries imported\n",
    "from sklearn.datasets import make_blobs\n",
    "from sklearn.cluster import KMeans, AgglomerativeClustering, SpectralClustering\n",
    "from sklearn.metrics import adjusted_rand_score\n",
    "import skfuzzy.cluster as fuzz\n",
    "import numpy as np\n",
    "import numpy as np\n",
    "\n",
    "# Generate a hypothetical dataset\n",
    "X, Y = make_blobs(n_samples=300, centers=4, random_state=42, cluster_std=1.0)"
   ]
  },
  {
   "cell_type": "code",
   "execution_count": 2,
   "metadata": {},
   "outputs": [],
   "source": [
    "from sklearn.metrics import adjusted_rand_score, silhouette_score\n",
    "\n",
    "#define the colors to be used in the plots\n",
    "colors = ['red', 'orange', 'lime', 'green', 'blue', 'navy', 'violet']\n",
    "fig_size = 6\n",
    "\n",
    "# Params of Data Generation\n",
    "samples = 300  # Number of samples per class\n",
    "cluster_count = 4     # Number of classes\n",
    "random_state = 42"
   ]
  },
  {
   "cell_type": "markdown",
   "metadata": {},
   "source": [
    "### K-means"
   ]
  },
  {
   "cell_type": "code",
   "execution_count": 3,
   "metadata": {},
   "outputs": [
    {
     "name": "stderr",
     "output_type": "stream",
     "text": [
      "/Library/Frameworks/Python.framework/Versions/3.11/lib/python3.11/site-packages/sklearn/cluster/_kmeans.py:1412: FutureWarning: The default value of `n_init` will change from 10 to 'auto' in 1.4. Set the value of `n_init` explicitly to suppress the warning\n",
      "  super()._check_params_vs_input(X, default_n_init=10)\n"
     ]
    }
   ],
   "source": [
    "from sklearn.cluster import KMeans\n",
    "\n",
    "labels = KMeans(n_clusters=cluster_count, random_state=random_state).fit_predict(X)\n",
    "kmeans_ari = adjusted_rand_score(Y, labels)\n",
    "kmeans_sil = silhouette_score(X, labels)"
   ]
  },
  {
   "cell_type": "markdown",
   "metadata": {},
   "source": [
    "### Fuzzy C-Means"
   ]
  },
  {
   "cell_type": "code",
   "execution_count": 4,
   "metadata": {},
   "outputs": [],
   "source": [
    "from skfuzzy import cmeans, cmeans_predict\n",
    "\n",
    "centers, labels, _, _, _, _, _  = cmeans(\n",
    "    data=X.T,\n",
    "    c = cluster_count,\n",
    "    m = 1.25,\n",
    "    error = 0.075,\n",
    "    maxiter = 1000\n",
    ")\n",
    "target2 = np.argmax(labels, axis=0)\n",
    "fcm_ari = adjusted_rand_score(Y, target2)\n",
    "fcm_sil = silhouette_score(X, target2)"
   ]
  },
  {
   "cell_type": "markdown",
   "metadata": {},
   "source": [
    "### Spectral"
   ]
  },
  {
   "cell_type": "code",
   "execution_count": 5,
   "metadata": {},
   "outputs": [],
   "source": [
    "from sklearn.cluster import SpectralClustering\n",
    "\n",
    "labels = SpectralClustering(n_clusters=cluster_count, random_state=42).fit_predict(X)\n",
    "spectral_ari = adjusted_rand_score(Y, labels)\n",
    "spectral_sil = silhouette_score(X, labels)"
   ]
  },
  {
   "cell_type": "markdown",
   "metadata": {},
   "source": [
    "### Agglomerative"
   ]
  },
  {
   "cell_type": "code",
   "execution_count": 6,
   "metadata": {},
   "outputs": [],
   "source": [
    "from sklearn.cluster import AgglomerativeClustering\n",
    "from scipy.cluster.hierarchy import dendrogram\n",
    "\n",
    "labels = AgglomerativeClustering(n_clusters=cluster_count).fit_predict(X)\n",
    "agglomerative_ari = adjusted_rand_score(Y, labels)\n",
    "agglomerative_sil = silhouette_score(X, labels)"
   ]
  },
  {
   "cell_type": "code",
   "execution_count": 8,
   "metadata": {},
   "outputs": [
    {
     "name": "stdout",
     "output_type": "stream",
     "text": [
      "Adjusted Rand Index:\n",
      "K-Means: 0.9910811504997546\n",
      "Fuzzy C-Means: 0.9910811504997546\n",
      "Spectral Clustering: 0.9910811504997546\n",
      "Agglomerative Clustering: 0.9910811504997546\n",
      "\n",
      "Silhouette Score:\n",
      "K-Means: 0.7915830011443039\n",
      "Fuzzy C-Means: 0.7915830011443039\n",
      "Spectral Clustering: 0.7915830011443039\n",
      "Agglomerative Clustering: 0.7915830011443039\n"
     ]
    }
   ],
   "source": [
    "print(\"Adjusted Rand Index:\")\n",
    "print(f\"K-Means: {kmeans_ari}\")\n",
    "print(f\"Fuzzy C-Means: {fcm_ari}\")\n",
    "print(f\"Spectral Clustering: {spectral_ari}\")\n",
    "print(f\"Agglomerative Clustering: {agglomerative_ari}\")\n",
    "print(\"\\nSilhouette Score:\")\n",
    "print(f\"K-Means: {kmeans_sil}\")\n",
    "print(f\"Fuzzy C-Means: {fcm_sil}\")\n",
    "print(f\"Spectral Clustering: {spectral_sil}\")\n",
    "print(f\"Agglomerative Clustering: {agglomerative_sil}\")"
   ]
  }
 ],
 "metadata": {
  "kernelspec": {
   "display_name": "Python 3",
   "language": "python",
   "name": "python3"
  },
  "language_info": {
   "codemirror_mode": {
    "name": "ipython",
    "version": 3
   },
   "file_extension": ".py",
   "mimetype": "text/x-python",
   "name": "python",
   "nbconvert_exporter": "python",
   "pygments_lexer": "ipython3",
   "version": "3.11.0"
  }
 },
 "nbformat": 4,
 "nbformat_minor": 2
}
